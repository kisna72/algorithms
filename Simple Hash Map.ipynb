{
 "cells": [
  {
   "cell_type": "markdown",
   "metadata": {},
   "source": [
    "Python Dict or Javascript objects or Ruby Hash all use a hash table for very fast lookups of keys and values.  In this notebook we will implement a hash table from scratch. \n"
   ]
  },
  {
   "cell_type": "code",
   "execution_count": 18,
   "metadata": {},
   "outputs": [],
   "source": [
    "# Simple Hash Function. \n",
    "\n",
    "names = [\"Hobbit\",\"Wizard\",\"Human\",\"Dwarf\"]\n",
    "\n",
    "class SimpleHashMap:\n",
    "    def __init__(self, capacity=0):\n",
    "        self.length = 0\n",
    "        self.hash_table = []\n",
    "        self.capacity = capacity\n",
    "        self.deleted = 0\n",
    "    \n",
    "    def hash_string(string):\n",
    "        \"\"\"\n",
    "        Source: http://www.cse.yorku.ca/~oz/hash.html\n",
    "        \"\"\"\n",
    "        hash = 5381\n",
    "        for i in range(len(string)):\n",
    "            # 5381 << 5 is bitwise left shift operator. this results in changing number to\n",
    "            # 5381 * 2^5. We are basically multiplying this hash number by 2^5.\n",
    "            # https://developer.mozilla.org/en-US/docs/Web/JavaScript/Reference/Operators/Bitwise_Operators#%3C%3C_(Left_shift)\n",
    "            hash = (hash << 5) + hash + ord(string[i])\n",
    "        return hash\n",
    "    "
   ]
  },
  {
   "cell_type": "code",
   "execution_count": 23,
   "metadata": {},
   "outputs": [
    {
     "name": "stdout",
     "output_type": "stream",
     "text": [
      "Hobbit 6952342158845 1\n",
      "Wizard 6952922935894 2\n",
      "Human 210677262686 2\n",
      "Dwarf 210672578361 1\n"
     ]
    }
   ],
   "source": [
    "for name in names:\n",
    "    hash_val = SimpleHashMap.hash_string(name)\n",
    "    print(name, hash_val, hash_val%4 )"
   ]
  }
 ],
 "metadata": {
  "kernelspec": {
   "display_name": "Python 3",
   "language": "python",
   "name": "python3"
  },
  "language_info": {
   "codemirror_mode": {
    "name": "ipython",
    "version": 3
   },
   "file_extension": ".py",
   "mimetype": "text/x-python",
   "name": "python",
   "nbconvert_exporter": "python",
   "pygments_lexer": "ipython3",
   "version": "3.6.4"
  }
 },
 "nbformat": 4,
 "nbformat_minor": 2
}
